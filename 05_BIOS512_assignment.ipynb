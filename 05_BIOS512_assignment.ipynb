{
 "cells": [
  {
   "cell_type": "markdown",
   "metadata": {},
   "source": [
    "# Assignment #5"
   ]
  },
  {
   "cell_type": "markdown",
   "metadata": {},
   "source": [
    "## Due: November 17, 2020"
   ]
  },
  {
   "cell_type": "markdown",
   "metadata": {},
   "source": [
    "Read in the [Volcano eruptions](https://raw.githubusercontent.com/rfordatascience/tidytuesday/master/data/2020/2020-05-12/eruptions.csv) data from the TidyTuesday project with `read_csv`."
   ]
  },
  {
   "cell_type": "markdown",
   "metadata": {},
   "source": [
    "Use the `print` function to find the number of rows and columns in the data."
   ]
  },
  {
   "cell_type": "code",
   "execution_count": 1,
   "metadata": {},
   "outputs": [
    {
     "name": "stderr",
     "output_type": "stream",
     "text": [
      "Warning message:\n",
      "“replacing previous import ‘vctrs::data_frame’ by ‘tibble::data_frame’ when loading ‘dplyr’”\n",
      "── \u001b[1mAttaching packages\u001b[22m ─────────────────────────────────────── tidyverse 1.3.0 ──\n",
      "\n",
      "\u001b[32m✔\u001b[39m \u001b[34mggplot2\u001b[39m 3.3.2     \u001b[32m✔\u001b[39m \u001b[34mpurrr  \u001b[39m 0.3.4\n",
      "\u001b[32m✔\u001b[39m \u001b[34mtibble \u001b[39m 3.0.4     \u001b[32m✔\u001b[39m \u001b[34mdplyr  \u001b[39m 1.0.1\n",
      "\u001b[32m✔\u001b[39m \u001b[34mtidyr  \u001b[39m 1.1.1     \u001b[32m✔\u001b[39m \u001b[34mstringr\u001b[39m 1.4.0\n",
      "\u001b[32m✔\u001b[39m \u001b[34mreadr  \u001b[39m 1.3.1     \u001b[32m✔\u001b[39m \u001b[34mforcats\u001b[39m 0.5.0\n",
      "\n",
      "Warning message:\n",
      "“package ‘ggplot2’ was built under R version 4.0.1”\n",
      "Warning message:\n",
      "“package ‘tidyr’ was built under R version 4.0.2”\n",
      "Warning message:\n",
      "“package ‘dplyr’ was built under R version 4.0.2”\n",
      "── \u001b[1mConflicts\u001b[22m ────────────────────────────────────────── tidyverse_conflicts() ──\n",
      "\u001b[31m✖\u001b[39m \u001b[34mdplyr\u001b[39m::\u001b[32mfilter()\u001b[39m masks \u001b[34mstats\u001b[39m::filter()\n",
      "\u001b[31m✖\u001b[39m \u001b[34mdplyr\u001b[39m::\u001b[32mlag()\u001b[39m    masks \u001b[34mstats\u001b[39m::lag()\n",
      "\n"
     ]
    }
   ],
   "source": [
    "library(\"tidyverse\")"
   ]
  },
  {
   "cell_type": "code",
   "execution_count": 10,
   "metadata": {},
   "outputs": [
    {
     "name": "stdout",
     "output_type": "stream",
     "text": [
      "\u001b[90m# A tibble: 11,178 x 15\u001b[39m\n",
      "   volcano_number volcano_name eruption_number eruption_catego… area_of_activity\n",
      "            \u001b[3m\u001b[90m<dbl>\u001b[39m\u001b[23m \u001b[3m\u001b[90m<chr>\u001b[39m\u001b[23m                  \u001b[3m\u001b[90m<dbl>\u001b[39m\u001b[23m \u001b[3m\u001b[90m<chr>\u001b[39m\u001b[23m            \u001b[3m\u001b[90m<chr>\u001b[39m\u001b[23m           \n",
      "\u001b[90m 1\u001b[39m         \u001b[4m2\u001b[24m\u001b[4m6\u001b[24m\u001b[4m6\u001b[24m030 Soputan                \u001b[4m2\u001b[24m\u001b[4m2\u001b[24m354 Confirmed Erupt… \u001b[31mNA\u001b[39m              \n",
      "\u001b[90m 2\u001b[39m         \u001b[4m3\u001b[24m\u001b[4m4\u001b[24m\u001b[4m3\u001b[24m100 San Miguel             \u001b[4m2\u001b[24m\u001b[4m2\u001b[24m355 Confirmed Erupt… \u001b[31mNA\u001b[39m              \n",
      "\u001b[90m 3\u001b[39m         \u001b[4m2\u001b[24m\u001b[4m3\u001b[24m\u001b[4m3\u001b[24m020 Fournaise, …           \u001b[4m2\u001b[24m\u001b[4m2\u001b[24m343 Confirmed Erupt… \u001b[31mNA\u001b[39m              \n",
      "\u001b[90m 4\u001b[39m         \u001b[4m3\u001b[24m\u001b[4m4\u001b[24m\u001b[4m5\u001b[24m020 Rincon de l…           \u001b[4m2\u001b[24m\u001b[4m2\u001b[24m346 Confirmed Erupt… \u001b[31mNA\u001b[39m              \n",
      "\u001b[90m 5\u001b[39m         \u001b[4m3\u001b[24m\u001b[4m5\u001b[24m\u001b[4m3\u001b[24m010 Fernandina             \u001b[4m2\u001b[24m\u001b[4m2\u001b[24m347 Confirmed Erupt… \u001b[31mNA\u001b[39m              \n",
      "\u001b[90m 6\u001b[39m         \u001b[4m2\u001b[24m\u001b[4m7\u001b[24m\u001b[4m3\u001b[24m070 Taal                   \u001b[4m2\u001b[24m\u001b[4m2\u001b[24m344 Confirmed Erupt… \u001b[31mNA\u001b[39m              \n",
      "\u001b[90m 7\u001b[39m         \u001b[4m2\u001b[24m\u001b[4m8\u001b[24m\u001b[4m2\u001b[24m050 Kuchinoerab…           \u001b[4m2\u001b[24m\u001b[4m2\u001b[24m345 Confirmed Erupt… \u001b[31mNA\u001b[39m              \n",
      "\u001b[90m 8\u001b[39m         \u001b[4m2\u001b[24m\u001b[4m4\u001b[24m\u001b[4m1\u001b[24m040 Whakaari/Wh…           \u001b[4m2\u001b[24m\u001b[4m2\u001b[24m338 Confirmed Erupt… 1978/90 Crater …\n",
      "\u001b[90m 9\u001b[39m         \u001b[4m3\u001b[24m\u001b[4m1\u001b[24m\u001b[4m1\u001b[24m060 Semisopochn…           \u001b[4m2\u001b[24m\u001b[4m2\u001b[24m341 Confirmed Erupt… \u001b[31mNA\u001b[39m              \n",
      "\u001b[90m10\u001b[39m         \u001b[4m2\u001b[24m\u001b[4m8\u001b[24m\u001b[4m4\u001b[24m096 Nishinoshima           \u001b[4m2\u001b[24m\u001b[4m2\u001b[24m340 Confirmed Erupt… \u001b[31mNA\u001b[39m              \n",
      "\u001b[90m# … with 11,168 more rows, and 10 more variables: vei \u001b[3m\u001b[90m<dbl>\u001b[90m\u001b[23m, start_year \u001b[3m\u001b[90m<dbl>\u001b[90m\u001b[23m,\u001b[39m\n",
      "\u001b[90m#   start_month \u001b[3m\u001b[90m<dbl>\u001b[90m\u001b[23m, start_day \u001b[3m\u001b[90m<dbl>\u001b[90m\u001b[23m, evidence_method_dating \u001b[3m\u001b[90m<chr>\u001b[90m\u001b[23m,\u001b[39m\n",
      "\u001b[90m#   end_year \u001b[3m\u001b[90m<dbl>\u001b[90m\u001b[23m, end_month \u001b[3m\u001b[90m<dbl>\u001b[90m\u001b[23m, end_day \u001b[3m\u001b[90m<dbl>\u001b[90m\u001b[23m, latitude \u001b[3m\u001b[90m<dbl>\u001b[90m\u001b[23m,\u001b[39m\n",
      "\u001b[90m#   longitude \u001b[3m\u001b[90m<dbl>\u001b[90m\u001b[23m\u001b[39m\n"
     ]
    }
   ],
   "source": [
    "volcano<- read_csv(\"https://raw.githubusercontent.com/rfordatascience/tidytuesday/master/data/2020/2020-05-12/eruptions.csv\",\n",
    "                  col_types=\n",
    "                            cols(\n",
    "                              volcano_number = col_double(),\n",
    "                              volcano_name = col_character(),\n",
    "                              eruption_number = col_double(),\n",
    "                              eruption_category = col_character(),\n",
    "                              area_of_activity = col_character(),\n",
    "                              vei = col_double(),\n",
    "                              start_year = col_double(),\n",
    "                              start_month = col_double(),\n",
    "                              start_day = col_double(),\n",
    "                              evidence_method_dating = col_character(),\n",
    "                              end_year = col_double(),\n",
    "                              end_month = col_double(),\n",
    "                              end_day = col_double(),\n",
    "                              latitude = col_double(),\n",
    "                              longitude = col_double()\n",
    "                            ))\n",
    "\n",
    "volcano%>%as.tibble()%>%print"
   ]
  },
  {
   "cell_type": "markdown",
   "metadata": {},
   "source": [
    "Using `group_by`, `summarize` (or `count`), and `arrange`, find the volcano with the most recorded eruptions in the data. Remeber the [desc](https://dplyr.tidyverse.org/reference/desc.html) function can be used to sort in descending order."
   ]
  },
  {
   "cell_type": "code",
   "execution_count": 13,
   "metadata": {},
   "outputs": [
    {
     "data": {
      "text/html": [
       "<table>\n",
       "<caption>A tibble: 3 × 1</caption>\n",
       "<thead>\n",
       "\t<tr><th scope=col>eruption_category</th></tr>\n",
       "\t<tr><th scope=col>&lt;chr&gt;</th></tr>\n",
       "</thead>\n",
       "<tbody>\n",
       "\t<tr><td>Confirmed Eruption  </td></tr>\n",
       "\t<tr><td>Uncertain Eruption  </td></tr>\n",
       "\t<tr><td>Discredited Eruption</td></tr>\n",
       "</tbody>\n",
       "</table>\n"
      ],
      "text/latex": [
       "A tibble: 3 × 1\n",
       "\\begin{tabular}{l}\n",
       " eruption\\_category\\\\\n",
       " <chr>\\\\\n",
       "\\hline\n",
       "\t Confirmed Eruption  \\\\\n",
       "\t Uncertain Eruption  \\\\\n",
       "\t Discredited Eruption\\\\\n",
       "\\end{tabular}\n"
      ],
      "text/markdown": [
       "\n",
       "A tibble: 3 × 1\n",
       "\n",
       "| eruption_category &lt;chr&gt; |\n",
       "|---|\n",
       "| Confirmed Eruption   |\n",
       "| Uncertain Eruption   |\n",
       "| Discredited Eruption |\n",
       "\n"
      ],
      "text/plain": [
       "  eruption_category   \n",
       "1 Confirmed Eruption  \n",
       "2 Uncertain Eruption  \n",
       "3 Discredited Eruption"
      ]
     },
     "metadata": {},
     "output_type": "display_data"
    }
   ],
   "source": [
    "unique(volcano[c(\"eruption_category\")])"
   ]
  },
  {
   "cell_type": "code",
   "execution_count": 30,
   "metadata": {},
   "outputs": [
    {
     "data": {
      "text/html": [
       "<table>\n",
       "<caption>A grouped_df: 1 × 3</caption>\n",
       "<thead>\n",
       "\t<tr><th scope=col>volcano_name</th><th scope=col>eruption_category</th><th scope=col>n</th></tr>\n",
       "\t<tr><th scope=col>&lt;chr&gt;</th><th scope=col>&lt;chr&gt;</th><th scope=col>&lt;int&gt;</th></tr>\n",
       "</thead>\n",
       "<tbody>\n",
       "\t<tr><td>Etna</td><td>Confirmed Eruption</td><td>196</td></tr>\n",
       "</tbody>\n",
       "</table>\n"
      ],
      "text/latex": [
       "A grouped\\_df: 1 × 3\n",
       "\\begin{tabular}{lll}\n",
       " volcano\\_name & eruption\\_category & n\\\\\n",
       " <chr> & <chr> & <int>\\\\\n",
       "\\hline\n",
       "\t Etna & Confirmed Eruption & 196\\\\\n",
       "\\end{tabular}\n"
      ],
      "text/markdown": [
       "\n",
       "A grouped_df: 1 × 3\n",
       "\n",
       "| volcano_name &lt;chr&gt; | eruption_category &lt;chr&gt; | n &lt;int&gt; |\n",
       "|---|---|---|\n",
       "| Etna | Confirmed Eruption | 196 |\n",
       "\n"
      ],
      "text/plain": [
       "  volcano_name eruption_category  n  \n",
       "1 Etna         Confirmed Eruption 196"
      ]
     },
     "metadata": {},
     "output_type": "display_data"
    }
   ],
   "source": [
    "volcano%>%\n",
    "        group_by(volcano_name)%>%\n",
    "        count(eruption_category) %>%\n",
    "        arrange(desc(n))%>%\n",
    "        head(1)"
   ]
  },
  {
   "cell_type": "markdown",
   "metadata": {},
   "source": [
    "Using `filter` and `arrange`, what is the year of the most recent eruption for the volcano above (i.e. the volcano with the most recorded eruptions in the data)? "
   ]
  },
  {
   "cell_type": "code",
   "execution_count": 29,
   "metadata": {},
   "outputs": [
    {
     "data": {
      "text/html": [
       "<table>\n",
       "<caption>A tibble: 1 × 2</caption>\n",
       "<thead>\n",
       "\t<tr><th scope=col>volcano_name</th><th scope=col>start_year</th></tr>\n",
       "\t<tr><th scope=col>&lt;chr&gt;</th><th scope=col>&lt;dbl&gt;</th></tr>\n",
       "</thead>\n",
       "<tbody>\n",
       "\t<tr><td>Etna</td><td>2013</td></tr>\n",
       "</tbody>\n",
       "</table>\n"
      ],
      "text/latex": [
       "A tibble: 1 × 2\n",
       "\\begin{tabular}{ll}\n",
       " volcano\\_name & start\\_year\\\\\n",
       " <chr> & <dbl>\\\\\n",
       "\\hline\n",
       "\t Etna & 2013\\\\\n",
       "\\end{tabular}\n"
      ],
      "text/markdown": [
       "\n",
       "A tibble: 1 × 2\n",
       "\n",
       "| volcano_name &lt;chr&gt; | start_year &lt;dbl&gt; |\n",
       "|---|---|\n",
       "| Etna | 2013 |\n",
       "\n"
      ],
      "text/plain": [
       "  volcano_name start_year\n",
       "1 Etna         2013      "
      ]
     },
     "metadata": {},
     "output_type": "display_data"
    }
   ],
   "source": [
    "volcano%>%\n",
    "        select(volcano_name,start_year)%>%\n",
    "        filter(volcano_name==\"Etna\")%>%\n",
    "        arrange(desc(start_year))%>%\n",
    "        head(1)"
   ]
  },
  {
   "cell_type": "markdown",
   "metadata": {},
   "source": [
    "Make a bar chart of eruption count by volcano_name. The bars should be sorted by frequency using `fct_infreq`. \"Lump\" the low frequency values into an \"Other\" category with `fct_lump`.\n",
    "\n",
    "**Bonus:** Can you remove the \"Other\" category with the `filter` function if it dominates the chart?"
   ]
  },
  {
   "cell_type": "code",
   "execution_count": 39,
   "metadata": {},
   "outputs": [
    {
     "data": {
      "image/png": "[encoded data removed]",
      "text/plain": [
       "plot without title"
      ]
     },
     "metadata": {
      "image/png": {
       "height": 420,
       "width": 420
      }
     },
     "output_type": "display_data"
    }
   ],
   "source": [
    "df<-volcano %>%\n",
    "    mutate(volcano_name = volcano_name %>% fct_lump(n = 10)) %>%\n",
    "    filter(volcano_name != \"Other\")\n",
    "p=ggplot(df, aes(x=volcano_name%>% fct_infreq() %>% fct_rev()))+geom_bar()\n",
    "p+  coord_flip()"
   ]
  },
  {
   "cell_type": "markdown",
   "metadata": {},
   "source": [
    "Using `mutate` generate a column that represents the span of each eruption in years (i.e. \"end_year\" minus \"start_year\"). Use `filter` to exclude eruption spans shorter than ten years. \n",
    "\n",
    "- Plot a histogram of your generated column (i.e. eruption spans greater than ten years).\n",
    "- Which volcano(s) has/have the longest eruption span in years? How long did the eruption last?"
   ]
  },
  {
   "cell_type": "code",
   "execution_count": 50,
   "metadata": {},
   "outputs": [
    {
     "data": {
      "image/png": "[encoded data removed]",
      "text/plain": [
       "plot without title"
      ]
     },
     "metadata": {
      "image/png": {
       "height": 750,
       "width": 1050
      }
     },
     "output_type": "display_data"
    }
   ],
   "source": [
    "options(repr.plot.width=7,repr.plot.height=5,repr.plot.res=300)\n",
    "df2<- volcano%>%\n",
    "        mutate(span=end_year-start_year)%>%\n",
    "        filter(span>10)\n",
    "q=ggplot(df2, aes(x=span))+geom_histogram(binwidth=50)\n",
    "q"
   ]
  },
  {
   "cell_type": "code",
   "execution_count": 52,
   "metadata": {},
   "outputs": [
    {
     "data": {
      "text/html": [
       "<table>\n",
       "<caption>A tibble: 1 × 4</caption>\n",
       "<thead>\n",
       "\t<tr><th scope=col>volcano_name</th><th scope=col>start_year</th><th scope=col>end_year</th><th scope=col>span</th></tr>\n",
       "\t<tr><th scope=col>&lt;chr&gt;</th><th scope=col>&lt;dbl&gt;</th><th scope=col>&lt;dbl&gt;</th><th scope=col>&lt;dbl&gt;</th></tr>\n",
       "</thead>\n",
       "<tbody>\n",
       "\t<tr><td>Stromboli</td><td>1558</td><td>1857</td><td>299</td></tr>\n",
       "</tbody>\n",
       "</table>\n"
      ],
      "text/latex": [
       "A tibble: 1 × 4\n",
       "\\begin{tabular}{llll}\n",
       " volcano\\_name & start\\_year & end\\_year & span\\\\\n",
       " <chr> & <dbl> & <dbl> & <dbl>\\\\\n",
       "\\hline\n",
       "\t Stromboli & 1558 & 1857 & 299\\\\\n",
       "\\end{tabular}\n"
      ],
      "text/markdown": [
       "\n",
       "A tibble: 1 × 4\n",
       "\n",
       "| volcano_name &lt;chr&gt; | start_year &lt;dbl&gt; | end_year &lt;dbl&gt; | span &lt;dbl&gt; |\n",
       "|---|---|---|---|\n",
       "| Stromboli | 1558 | 1857 | 299 |\n",
       "\n"
      ],
      "text/plain": [
       "  volcano_name start_year end_year span\n",
       "1 Stromboli    1558       1857     299 "
      ]
     },
     "metadata": {},
     "output_type": "display_data"
    }
   ],
   "source": [
    "df2%>%select(volcano_name,start_year,end_year,span)%>%arrange(desc(span))%>%head(1)"
   ]
  },
  {
   "cell_type": "code",
   "execution_count": null,
   "metadata": {},
   "outputs": [],
   "source": []
  }
 ],
 "metadata": {
  "kernelspec": {
   "display_name": "R",
   "language": "R",
   "name": "ir"
  },
  "language_info": {
   "codemirror_mode": "r",
   "file_extension": ".r",
   "mimetype": "text/x-r-source",
   "name": "R",
   "pygments_lexer": "r",
   "version": "4.0.0"
  }
 },
 "nbformat": 4,
 "nbformat_minor": 4
}
