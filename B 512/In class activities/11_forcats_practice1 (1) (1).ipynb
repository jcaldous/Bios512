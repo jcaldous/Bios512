{
 "cells": [
  {
   "cell_type": "markdown",
   "metadata": {},
   "source": [
    "Find a dataset from the [TidyTuesday Project](https://github.com/rfordatascience/tidytuesday) which has at least one column with `strings` as values.\n",
    "\n",
    "Use `read_csv` to load the data into your R session. Give the tibble an informative variable name."
   ]
  },
  {
   "cell_type": "code",
   "execution_count": 1,
   "metadata": {},
   "outputs": [
    {
     "name": "stderr",
     "output_type": "stream",
     "text": [
      "Warning message:\n",
      "“replacing previous import ‘vctrs::data_frame’ by ‘tibble::data_frame’ when loading ‘dplyr’”\n",
      "── \u001b[1mAttaching packages\u001b[22m ─────────────────────────────────────── tidyverse 1.3.0 ──\n",
      "\n",
      "\u001b[32m✔\u001b[39m \u001b[34mggplot2\u001b[39m 3.3.2     \u001b[32m✔\u001b[39m \u001b[34mpurrr  \u001b[39m 0.3.4\n",
      "\u001b[32m✔\u001b[39m \u001b[34mtibble \u001b[39m 3.0.4     \u001b[32m✔\u001b[39m \u001b[34mdplyr  \u001b[39m 1.0.1\n",
      "\u001b[32m✔\u001b[39m \u001b[34mtidyr  \u001b[39m 1.1.1     \u001b[32m✔\u001b[39m \u001b[34mstringr\u001b[39m 1.4.0\n",
      "\u001b[32m✔\u001b[39m \u001b[34mreadr  \u001b[39m 1.3.1     \u001b[32m✔\u001b[39m \u001b[34mforcats\u001b[39m 0.5.0\n",
      "\n",
      "Warning message:\n",
      "“package ‘ggplot2’ was built under R version 4.0.1”\n",
      "Warning message:\n",
      "“package ‘tidyr’ was built under R version 4.0.2”\n",
      "Warning message:\n",
      "“package ‘dplyr’ was built under R version 4.0.2”\n",
      "── \u001b[1mConflicts\u001b[22m ────────────────────────────────────────── tidyverse_conflicts() ──\n",
      "\u001b[31m✖\u001b[39m \u001b[34mdplyr\u001b[39m::\u001b[32mfilter()\u001b[39m masks \u001b[34mstats\u001b[39m::filter()\n",
      "\u001b[31m✖\u001b[39m \u001b[34mdplyr\u001b[39m::\u001b[32mlag()\u001b[39m    masks \u001b[34mstats\u001b[39m::lag()\n",
      "\n",
      "Parsed with column specification:\n",
      "cols(\n",
      "  rank = \u001b[32mcol_double()\u001b[39m,\n",
      "  password = \u001b[31mcol_character()\u001b[39m,\n",
      "  category = \u001b[31mcol_character()\u001b[39m,\n",
      "  value = \u001b[32mcol_double()\u001b[39m,\n",
      "  time_unit = \u001b[31mcol_character()\u001b[39m,\n",
      "  offline_crack_sec = \u001b[32mcol_double()\u001b[39m,\n",
      "  rank_alt = \u001b[32mcol_double()\u001b[39m,\n",
      "  strength = \u001b[32mcol_double()\u001b[39m,\n",
      "  font_size = \u001b[32mcol_double()\u001b[39m\n",
      ")\n",
      "\n"
     ]
    }
   ],
   "source": [
    "library(\"tidyverse\")\n",
    "\n",
    "df<-read_csv(\"https://github.com/rfordatascience/tidytuesday/raw/master/data/2020/2020-01-14/passwords.csv\")"
   ]
  },
  {
   "cell_type": "code",
   "execution_count": 2,
   "metadata": {},
   "outputs": [
    {
     "data": {
      "text/html": [
       "<table>\n",
       "<caption>A tibble: 6 × 9</caption>\n",
       "<thead>\n",
       "\t<tr><th scope=col>rank</th><th scope=col>password</th><th scope=col>category</th><th scope=col>value</th><th scope=col>time_unit</th><th scope=col>offline_crack_sec</th><th scope=col>rank_alt</th><th scope=col>strength</th><th scope=col>font_size</th></tr>\n",
       "\t<tr><th scope=col>&lt;dbl&gt;</th><th scope=col>&lt;chr&gt;</th><th scope=col>&lt;chr&gt;</th><th scope=col>&lt;dbl&gt;</th><th scope=col>&lt;chr&gt;</th><th scope=col>&lt;dbl&gt;</th><th scope=col>&lt;dbl&gt;</th><th scope=col>&lt;dbl&gt;</th><th scope=col>&lt;dbl&gt;</th></tr>\n",
       "</thead>\n",
       "<tbody>\n",
       "\t<tr><td>1</td><td>password</td><td>password-related   </td><td> 6.91</td><td>years  </td><td>2.17e+00</td><td>1</td><td>8</td><td>11</td></tr>\n",
       "\t<tr><td>2</td><td>123456  </td><td>simple-alphanumeric</td><td>18.52</td><td>minutes</td><td>1.11e-05</td><td>2</td><td>4</td><td> 8</td></tr>\n",
       "\t<tr><td>3</td><td>12345678</td><td>simple-alphanumeric</td><td> 1.29</td><td>days   </td><td>1.11e-03</td><td>3</td><td>4</td><td> 8</td></tr>\n",
       "\t<tr><td>4</td><td>1234    </td><td>simple-alphanumeric</td><td>11.11</td><td>seconds</td><td>1.11e-07</td><td>4</td><td>4</td><td> 8</td></tr>\n",
       "\t<tr><td>5</td><td>qwerty  </td><td>simple-alphanumeric</td><td> 3.72</td><td>days   </td><td>3.21e-03</td><td>5</td><td>8</td><td>11</td></tr>\n",
       "\t<tr><td>6</td><td>12345   </td><td>simple-alphanumeric</td><td> 1.85</td><td>minutes</td><td>1.11e-06</td><td>6</td><td>4</td><td> 8</td></tr>\n",
       "</tbody>\n",
       "</table>\n"
      ],
      "text/latex": [
       "A tibble: 6 × 9\n",
       "\\begin{tabular}{lllllllll}\n",
       " rank & password & category & value & time\\_unit & offline\\_crack\\_sec & rank\\_alt & strength & font\\_size\\\\\n",
       " <dbl> & <chr> & <chr> & <dbl> & <chr> & <dbl> & <dbl> & <dbl> & <dbl>\\\\\n",
       "\\hline\n",
       "\t 1 & password & password-related    &  6.91 & years   & 2.17e+00 & 1 & 8 & 11\\\\\n",
       "\t 2 & 123456   & simple-alphanumeric & 18.52 & minutes & 1.11e-05 & 2 & 4 &  8\\\\\n",
       "\t 3 & 12345678 & simple-alphanumeric &  1.29 & days    & 1.11e-03 & 3 & 4 &  8\\\\\n",
       "\t 4 & 1234     & simple-alphanumeric & 11.11 & seconds & 1.11e-07 & 4 & 4 &  8\\\\\n",
       "\t 5 & qwerty   & simple-alphanumeric &  3.72 & days    & 3.21e-03 & 5 & 8 & 11\\\\\n",
       "\t 6 & 12345    & simple-alphanumeric &  1.85 & minutes & 1.11e-06 & 6 & 4 &  8\\\\\n",
       "\\end{tabular}\n"
      ],
      "text/markdown": [
       "\n",
       "A tibble: 6 × 9\n",
       "\n",
       "| rank &lt;dbl&gt; | password &lt;chr&gt; | category &lt;chr&gt; | value &lt;dbl&gt; | time_unit &lt;chr&gt; | offline_crack_sec &lt;dbl&gt; | rank_alt &lt;dbl&gt; | strength &lt;dbl&gt; | font_size &lt;dbl&gt; |\n",
       "|---|---|---|---|---|---|---|---|---|\n",
       "| 1 | password | password-related    |  6.91 | years   | 2.17e+00 | 1 | 8 | 11 |\n",
       "| 2 | 123456   | simple-alphanumeric | 18.52 | minutes | 1.11e-05 | 2 | 4 |  8 |\n",
       "| 3 | 12345678 | simple-alphanumeric |  1.29 | days    | 1.11e-03 | 3 | 4 |  8 |\n",
       "| 4 | 1234     | simple-alphanumeric | 11.11 | seconds | 1.11e-07 | 4 | 4 |  8 |\n",
       "| 5 | qwerty   | simple-alphanumeric |  3.72 | days    | 3.21e-03 | 5 | 8 | 11 |\n",
       "| 6 | 12345    | simple-alphanumeric |  1.85 | minutes | 1.11e-06 | 6 | 4 |  8 |\n",
       "\n"
      ],
      "text/plain": [
       "  rank password category            value time_unit offline_crack_sec rank_alt\n",
       "1 1    password password-related     6.91 years     2.17e+00          1       \n",
       "2 2    123456   simple-alphanumeric 18.52 minutes   1.11e-05          2       \n",
       "3 3    12345678 simple-alphanumeric  1.29 days      1.11e-03          3       \n",
       "4 4    1234     simple-alphanumeric 11.11 seconds   1.11e-07          4       \n",
       "5 5    qwerty   simple-alphanumeric  3.72 days      3.21e-03          5       \n",
       "6 6    12345    simple-alphanumeric  1.85 minutes   1.11e-06          6       \n",
       "  strength font_size\n",
       "1 8        11       \n",
       "2 4         8       \n",
       "3 4         8       \n",
       "4 4         8       \n",
       "5 8        11       \n",
       "6 4         8       "
      ]
     },
     "metadata": {},
     "output_type": "display_data"
    }
   ],
   "source": [
    "df%>%head\n"
   ]
  },
  {
   "cell_type": "markdown",
   "metadata": {},
   "source": [
    "Make a bar chart of the frequency of values for one \"categorical\" column in the data you chose."
   ]
  },
  {
   "cell_type": "code",
   "execution_count": 3,
   "metadata": {},
   "outputs": [
    {
     "data": {
      "image/png": "[encoded data removed]",
      "text/plain": [
       "plot without title"
      ]
     },
     "metadata": {
      "image/png": {
       "height": 420,
       "width": 420
      }
     },
     "output_type": "display_data"
    }
   ],
   "source": [
    "p=ggplot(df, aes(x=category))\n",
    "p=p+geom_bar()\n",
    "p"
   ]
  },
  {
   "cell_type": "markdown",
   "metadata": {},
   "source": [
    "## 🛑 wait for the `forcats` lecture before moving to the next step..."
   ]
  },
  {
   "cell_type": "markdown",
   "metadata": {},
   "source": [
    "Using `forcats` functions, plot an ordered example of your bar chart from above. Don't for get to \"lump\" low frequency values."
   ]
  },
  {
   "cell_type": "code",
   "execution_count": 18,
   "metadata": {},
   "outputs": [
    {
     "data": {
      "image/png": "[encoded data removed]",
      "text/plain": [
       "plot without title"
      ]
     },
     "metadata": {
      "image/png": {
       "height": 420,
       "width": 420
      }
     },
     "output_type": "display_data"
    }
   ],
   "source": [
    "df=df%>%arrange(category)\n",
    "p=ggplot(df, aes(x=category %>%fct_lump(n=5)%>%fct_infreq()%>% fct_rev()))\n",
    "p=p+geom_bar()\n",
    "p"
   ]
  },
  {
   "cell_type": "code",
   "execution_count": null,
   "metadata": {},
   "outputs": [],
   "source": []
  }
 ],
 "metadata": {
  "kernelspec": {
   "display_name": "R",
   "language": "R",
   "name": "ir"
  },
  "language_info": {
   "codemirror_mode": "r",
   "file_extension": ".r",
   "mimetype": "text/x-r-source",
   "name": "R",
   "pygments_lexer": "r",
   "version": "4.0.0"
  }
 },
 "nbformat": 4,
 "nbformat_minor": 4
}
