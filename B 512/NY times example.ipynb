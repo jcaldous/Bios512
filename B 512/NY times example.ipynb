{
 "cells": [
  {
   "cell_type": "code",
   "execution_count": 1,
   "metadata": {},
   "outputs": [
    {
     "name": "stderr",
     "output_type": "stream",
     "text": [
      "Warning message:\n",
      "“replacing previous import ‘vctrs::data_frame’ by ‘tibble::data_frame’ when loading ‘dplyr’”\n",
      "── \u001b[1mAttaching packages\u001b[22m ─────────────────────────────────────── tidyverse 1.3.0 ──\n",
      "\n",
      "\u001b[32m✔\u001b[39m \u001b[34mggplot2\u001b[39m 3.3.2     \u001b[32m✔\u001b[39m \u001b[34mpurrr  \u001b[39m 0.3.4\n",
      "\u001b[32m✔\u001b[39m \u001b[34mtibble \u001b[39m 3.0.3     \u001b[32m✔\u001b[39m \u001b[34mdplyr  \u001b[39m 1.0.1\n",
      "\u001b[32m✔\u001b[39m \u001b[34mtidyr  \u001b[39m 1.1.1     \u001b[32m✔\u001b[39m \u001b[34mstringr\u001b[39m 1.4.0\n",
      "\u001b[32m✔\u001b[39m \u001b[34mreadr  \u001b[39m 1.3.1     \u001b[32m✔\u001b[39m \u001b[34mforcats\u001b[39m 0.5.0\n",
      "\n",
      "Warning message:\n",
      "“package ‘ggplot2’ was built under R version 4.0.1”\n",
      "Warning message:\n",
      "“package ‘tibble’ was built under R version 4.0.2”\n",
      "Warning message:\n",
      "“package ‘tidyr’ was built under R version 4.0.2”\n",
      "Warning message:\n",
      "“package ‘dplyr’ was built under R version 4.0.2”\n",
      "── \u001b[1mConflicts\u001b[22m ────────────────────────────────────────── tidyverse_conflicts() ──\n",
      "\u001b[31m✖\u001b[39m \u001b[34mdplyr\u001b[39m::\u001b[32mfilter()\u001b[39m masks \u001b[34mstats\u001b[39m::filter()\n",
      "\u001b[31m✖\u001b[39m \u001b[34mdplyr\u001b[39m::\u001b[32mlag()\u001b[39m    masks \u001b[34mstats\u001b[39m::lag()\n",
      "\n"
     ]
    }
   ],
   "source": [
    "library(\"tidyverse\")"
   ]
  },
  {
   "cell_type": "code",
   "execution_count": 5,
   "metadata": {},
   "outputs": [
    {
     "data": {
      "text/html": [
       "<table>\n",
       "<caption>A data.frame: 9 × 4</caption>\n",
       "<thead>\n",
       "\t<tr><th scope=col>State</th><th scope=col>date</th><th scope=col>death</th><th scope=col>abv_bel</th></tr>\n",
       "\t<tr><th scope=col>&lt;chr&gt;</th><th scope=col>&lt;chr&gt;</th><th scope=col>&lt;dbl&gt;</th><th scope=col>&lt;chr&gt;</th></tr>\n",
       "</thead>\n",
       "<tbody>\n",
       "\t<tr><td>NY</td><td>March01</td><td> 18</td><td>pos</td></tr>\n",
       "\t<tr><td>NC</td><td>March01</td><td>-19</td><td>neg</td></tr>\n",
       "\t<tr><td>MA</td><td>March01</td><td>150</td><td>pos</td></tr>\n",
       "\t<tr><td>NY</td><td>March02</td><td>-10</td><td>neg</td></tr>\n",
       "\t<tr><td>NC</td><td>March02</td><td>100</td><td>pos</td></tr>\n",
       "\t<tr><td>MA</td><td>March02</td><td>300</td><td>pos</td></tr>\n",
       "\t<tr><td>NY</td><td>March03</td><td> 18</td><td>pos</td></tr>\n",
       "\t<tr><td>NC</td><td>March03</td><td>-19</td><td>neg</td></tr>\n",
       "\t<tr><td>MA</td><td>March03</td><td>150</td><td>pos</td></tr>\n",
       "</tbody>\n",
       "</table>\n"
      ],
      "text/latex": [
       "A data.frame: 9 × 4\n",
       "\\begin{tabular}{llll}\n",
       " State & date & death & abv\\_bel\\\\\n",
       " <chr> & <chr> & <dbl> & <chr>\\\\\n",
       "\\hline\n",
       "\t NY & March01 &  18 & pos\\\\\n",
       "\t NC & March01 & -19 & neg\\\\\n",
       "\t MA & March01 & 150 & pos\\\\\n",
       "\t NY & March02 & -10 & neg\\\\\n",
       "\t NC & March02 & 100 & pos\\\\\n",
       "\t MA & March02 & 300 & pos\\\\\n",
       "\t NY & March03 &  18 & pos\\\\\n",
       "\t NC & March03 & -19 & neg\\\\\n",
       "\t MA & March03 & 150 & pos\\\\\n",
       "\\end{tabular}\n"
      ],
      "text/markdown": [
       "\n",
       "A data.frame: 9 × 4\n",
       "\n",
       "| State &lt;chr&gt; | date &lt;chr&gt; | death &lt;dbl&gt; | abv_bel &lt;chr&gt; |\n",
       "|---|---|---|---|\n",
       "| NY | March01 |  18 | pos |\n",
       "| NC | March01 | -19 | neg |\n",
       "| MA | March01 | 150 | pos |\n",
       "| NY | March02 | -10 | neg |\n",
       "| NC | March02 | 100 | pos |\n",
       "| MA | March02 | 300 | pos |\n",
       "| NY | March03 |  18 | pos |\n",
       "| NC | March03 | -19 | neg |\n",
       "| MA | March03 | 150 | pos |\n",
       "\n"
      ],
      "text/plain": [
       "  State date    death abv_bel\n",
       "1 NY    March01  18   pos    \n",
       "2 NC    March01 -19   neg    \n",
       "3 MA    March01 150   pos    \n",
       "4 NY    March02 -10   neg    \n",
       "5 NC    March02 100   pos    \n",
       "6 MA    March02 300   pos    \n",
       "7 NY    March03  18   pos    \n",
       "8 NC    March03 -19   neg    \n",
       "9 MA    March03 150   pos    "
      ]
     },
     "metadata": {},
     "output_type": "display_data"
    }
   ],
   "source": [
    "State<-c('NY','NC','MA','NY','NC','MA','NY','NC','MA')\n",
    "date<-c('March01', 'March01', 'March01', 'March02', 'March02', 'March02', 'March03', 'March03', 'March03')\n",
    "death<-c(18,-19,150,-10,100,300,18,-19,150)\n",
    "abv_bel<-c('pos','neg','pos','neg', 'pos', 'pos','pos','neg','pos')\n",
    "NYT<-data.frame(State, date,death, abv_bel)\n",
    "NYT"
   ]
  },
  {
   "cell_type": "code",
   "execution_count": 9,
   "metadata": {},
   "outputs": [
    {
     "data": {
      "image/png": "[encoded data removed]",
      "text/plain": [
       "plot without title"
      ]
     },
     "metadata": {
      "image/png": {
       "height": 420,
       "width": 420
      }
     },
     "output_type": "display_data"
    }
   ],
   "source": [
    "p= ggplot(NYT, aes(x=date, y=death, fill=abv_bel))\n",
    "p= p + geom_col()+facet_wrap(~State)\n",
    "p\n"
   ]
  }
 ],
 "metadata": {
  "kernelspec": {
   "display_name": "R",
   "language": "R",
   "name": "ir"
  },
  "language_info": {
   "codemirror_mode": "r",
   "file_extension": ".r",
   "mimetype": "text/x-r-source",
   "name": "R",
   "pygments_lexer": "r",
   "version": "4.0.0"
  }
 },
 "nbformat": 4,
 "nbformat_minor": 4
}
